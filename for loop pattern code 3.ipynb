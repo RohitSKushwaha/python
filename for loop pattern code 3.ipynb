{
 "cells": [
  {
   "cell_type": "code",
   "execution_count": 1,
   "id": "43ed18fd",
   "metadata": {},
   "outputs": [
    {
     "name": "stdout",
     "output_type": "stream",
     "text": [
      "enter the number of rows you want to print the pattern for = 5\n",
      "* * * * * * * * *  \n",
      "  * * * * * * *  \n",
      "    * * * * *  \n",
      "      * * *  \n",
      "        *  \n"
     ]
    }
   ],
   "source": [
    "n = int(input(\"enter the number of rows you want to print the pattern for = \"))\n",
    "for i in range(n,0,-1) :\n",
    "    for j in range(n-i) :\n",
    "        print(\" \", end = \" \")\n",
    "    for j in range(2*i - 1) :\n",
    "        print(\"* \" , end = \"\")\n",
    "    print(\" \")"
   ]
  },
  {
   "cell_type": "code",
   "execution_count": 4,
   "id": "99a115cf",
   "metadata": {},
   "outputs": [
    {
     "name": "stdout",
     "output_type": "stream",
     "text": [
      "enter the number of rows you want to print = 10\n",
      "* * * * * * * * * * * * * * * * * * *  \n",
      "  * * * * * * * * * * * * * * * * *  \n",
      "    * * * * * * * * * * * * * * *  \n",
      "      * * * * * * * * * * * * *  \n",
      "        * * * * * * * * * * *  \n",
      "          * * * * * * * * *  \n",
      "            * * * * * * *  \n",
      "              * * * * *  \n",
      "                * * *  \n",
      "                  *  \n",
      "number of stars in this pattern =  100\n"
     ]
    }
   ],
   "source": [
    "# this code was written by me \n",
    "n = int(input(\"enter the number of rows you want to print = \"))\n",
    "count = 0\n",
    "for i in range(n):\n",
    "    for j in range(0,i) :\n",
    "        print(\" \" , end = \" \")\n",
    "    for j in range(2*(n-i)-1):\n",
    "        print(\"*\", end = \" \")\n",
    "        count = count +1\n",
    "    print(\" \")\n",
    "print(\"number of stars in this pattern = \" ,count)"
   ]
  },
  {
   "cell_type": "code",
   "execution_count": null,
   "id": "2bf68d38",
   "metadata": {},
   "outputs": [],
   "source": []
  }
 ],
 "metadata": {
  "kernelspec": {
   "display_name": "Python 3 (ipykernel)",
   "language": "python",
   "name": "python3"
  },
  "language_info": {
   "codemirror_mode": {
    "name": "ipython",
    "version": 3
   },
   "file_extension": ".py",
   "mimetype": "text/x-python",
   "name": "python",
   "nbconvert_exporter": "python",
   "pygments_lexer": "ipython3",
   "version": "3.9.7"
  }
 },
 "nbformat": 4,
 "nbformat_minor": 5
}
